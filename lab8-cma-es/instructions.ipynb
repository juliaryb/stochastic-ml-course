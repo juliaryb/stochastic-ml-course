{
 "cells": [
  {
   "cell_type": "markdown",
   "metadata": {},
   "source": [
    "# CMA-ES"
   ]
  },
  {
   "cell_type": "code",
   "execution_count": 6,
   "metadata": {},
   "outputs": [],
   "source": [
    "import numpy as np\n",
    "import cma\n",
    "import matplotlib.pyplot as plt\n",
    "import plotly.express as px\n",
    "import pandas as pd\n",
    "from matplotlib.patches import Ellipse\n",
    "from matplotlib.animation import FuncAnimation\n",
    "from typing import Callable"
   ]
  },
  {
   "cell_type": "markdown",
   "metadata": {},
   "source": [
    "### Optimization Problems\n",
    "\n",
    "This cell defines three common benchmark functions, Sphere, Rosenbrock, and Rastrigin, used to test optimization algorithms. We also used these functions earlier to evaluate Adam and Momentum."
   ]
  },
  {
   "cell_type": "code",
   "execution_count": null,
   "metadata": {},
   "outputs": [],
   "source": [
    "def sphere(x: np.ndarray) -> float:\n",
    "    return float(np.sum(x**2))\n",
    "\n",
    "\n",
    "def rosenbrock(x: np.ndarray) -> float:\n",
    "    return float(np.sum(100.0 * (x[1:] - x[:-1] ** 2.0) ** 2.0 + (1.0 - x[:-1]) ** 2.0))\n",
    "\n",
    "\n",
    "def rastrigin(x: np.ndarray) -> float:\n",
    "    A: float = 10.0\n",
    "    return float(A * len(x) + np.sum(x**2 - A * np.cos(2 * np.pi * x)))"
   ]
  },
  {
   "cell_type": "markdown",
   "metadata": {},
   "source": [
    "### Helper functions\n",
    "\n",
    "Convergence plot and animation."
   ]
  },
  {
   "cell_type": "code",
   "execution_count": null,
   "metadata": {},
   "outputs": [],
   "source": [
    "def plot_convergence(histories: dict[str, list[float]]) -> None:\n",
    "    plt.figure()\n",
    "    for name, fitness in histories.items():\n",
    "        plt.plot(fitness, label=name)\n",
    "    plt.xlabel(\"Generation\")\n",
    "    plt.ylabel(\"Best Fitness\")\n",
    "    plt.title(\"CMA-ES Convergence\")\n",
    "    plt.legend()\n",
    "    plt.grid(True)\n",
    "    plt.show()\n",
    "\n",
    "def animate_distribution(\n",
    "    func: Callable[[np.ndarray], float],\n",
    "    mu_history: list[np.ndarray],\n",
    "    cov_history: list[np.ndarray],\n",
    "    bounds: tuple[float, float] = (-5, 5),\n",
    "    frames: int = 50,\n",
    "    filename: str = \"cma_es_animation.mp4\",\n",
    ") -> None:\n",
    "    x = np.linspace(bounds[0], bounds[1], 200)\n",
    "    y = np.linspace(bounds[0], bounds[1], 200)\n",
    "    X, Y = np.meshgrid(x, y)\n",
    "    coords = np.vstack([X.ravel(), Y.ravel()]).T\n",
    "    Z = np.array([func(pt) for pt in coords]).reshape(X.shape)\n",
    "\n",
    "    fig, ax = plt.subplots()\n",
    "    levels = np.logspace(np.log10(Z.min() + 1e-6), np.log10(Z.max()), 30)\n",
    "\n",
    "    def update(frame_index: int) -> None:\n",
    "        ax.clear()\n",
    "        ax.contour(X, Y, Z, levels=levels, cmap=\"viridis\")\n",
    "        mu = mu_history[frame_index]\n",
    "        cov = cov_history[frame_index]\n",
    "        vals, vecs = np.linalg.eigh(cov)\n",
    "        angle = float(np.degrees(np.arctan2(vecs[0, 1], vecs[0, 0])))\n",
    "        width, height = 2 * np.sqrt(vals)\n",
    "        ellipse = Ellipse(\n",
    "            xy=mu,\n",
    "            width=width,\n",
    "            height=height,\n",
    "            angle=angle,\n",
    "            edgecolor=\"red\",\n",
    "            facecolor=\"none\",\n",
    "            lw=2,\n",
    "        )\n",
    "        ax.add_patch(ellipse)\n",
    "        ax.plot(mu[0], mu[1], \"ro\")\n",
    "        ax.set_title(f\"Generation {frame_index}\")\n",
    "        ax.set_xlim(bounds)\n",
    "        ax.set_ylim(bounds)\n",
    "\n",
    "    anim = FuncAnimation(fig, update, frames=min(frames, len(mu_history)), interval=200)\n",
    "    anim.save(filename, writer=\"ffmpeg\")\n",
    "    print(f\"Animation saved to {filename}\")"
   ]
  },
  {
   "cell_type": "markdown",
   "metadata": {},
   "source": [
    "### Running CMA-ES"
   ]
  },
  {
   "cell_type": "code",
   "execution_count": 8,
   "metadata": {},
   "outputs": [],
   "source": [
    "from dataclasses import dataclass\n",
    "\n",
    "@dataclass\n",
    "class CMAESResult:\n",
    "    best_fitness: list[float]\n",
    "    mean_history: list[np.ndarray]\n",
    "    cov_history: list[np.ndarray]\n",
    "    sigma_history: list[float]\n",
    "\n",
    "def run_cma_es(\n",
    "    func: Callable[[np.ndarray], float],\n",
    "    x0: np.ndarray,\n",
    "    sigma0: float,\n",
    "    max_iterations: int = 100\n",
    ") -> CMAESResult:\n",
    "    # TODO: Implement this function\n",
    "    # TODO: Use cma.CMAEvolutionStrategy from pycma: https://pypi.org/project/cma/\n",
    "    # Hint: Use ask and tell methods\n",
    "    raise NotImplementedError(\"Not implemented\")"
   ]
  },
  {
   "cell_type": "markdown",
   "metadata": {},
   "source": [
    "### Ex. 1: Impact of the Starting Point\n",
    "1.\tChoose Rosenbrock in 2D.\n",
    "2.\tRun CMA-ES from at least five widely separated initial means (e.g., [-4,-4], [-1,3], [5,5]).\n",
    "3.\tPlot convergence curves and report:\n",
    "- best fitness vs. generation,\n",
    "- total evaluations to reach $f(x)\\lt10^{-8}$ (or termination).\n",
    "4.\tBriefly discuss sensitivity to the start point. Prepare GIFs for two different starting points.\n",
    "\n",
    "Hint: use `sigma0 = 0.5` and `max_iter = 250`."
   ]
  },
  {
   "cell_type": "code",
   "execution_count": null,
   "metadata": {},
   "outputs": [],
   "source": []
  },
  {
   "cell_type": "markdown",
   "metadata": {},
   "source": [
    "### Ex. 2: Effect of the Initial Global Step‐Size $\\sigma_0$\n",
    "1. Use [2,2] at starting point on the Rastrigin function.\n",
    "2. Test $\\sigma_0\\in\\{0.1,\\,0.5,\\,1,\\,2,\\,5\\}$.\n",
    "3. Record and plot\n",
    "- final fitness after a fixed budget (e.g. 1000 evals)\n",
    "- evolution of es.sigma over time (log scale).\n",
    "4. Explain why too-small and too-large $\\sigma_0$ hurt performance, relating findings to the adaptation rule."
   ]
  },
  {
   "cell_type": "code",
   "execution_count": null,
   "metadata": {},
   "outputs": [],
   "source": []
  },
  {
   "cell_type": "markdown",
   "metadata": {},
   "source": [
    "### Ex. 3: Visualising the Covariance Matrix Adaptation\n",
    "1. On Sphere in 2D, log es.C every 5 generations.\n",
    "2. Use the provided `animate_distribution` to produce a GIF showing the shrinking and rotation of the sampling ellipse.\n",
    "3. Submit the animation and two short observations about what the animation reveals regarding step-size vs. shape adaptation."
   ]
  },
  {
   "cell_type": "code",
   "execution_count": null,
   "metadata": {},
   "outputs": [],
   "source": []
  }
 ],
 "metadata": {
  "kernelspec": {
   "display_name": "Python 3",
   "language": "python",
   "name": "python3"
  },
  "language_info": {
   "codemirror_mode": {
    "name": "ipython",
    "version": 3
   },
   "file_extension": ".py",
   "mimetype": "text/x-python",
   "name": "python",
   "nbconvert_exporter": "python",
   "pygments_lexer": "ipython3",
   "version": "3.10.7"
  }
 },
 "nbformat": 4,
 "nbformat_minor": 2
}
